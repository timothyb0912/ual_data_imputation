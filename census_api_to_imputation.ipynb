{
 "metadata": {
  "name": "census_api_to_imputation.ipynb"
 },
 "nbformat": 3,
 "nbformat_minor": 0,
 "worksheets": [
  {
   "cells": [
    {
     "cell_type": "code",
     "collapsed": false,
     "input": [
      "import pandas as pd\n",
      "import numpy as np\n",
      "import os\n",
      "import re\n",
      "import h5py\n",
      "from census import Census\n",
      "from us import states\n",
      "from bs4 import BeautifulSoup"
     ],
     "language": "python",
     "metadata": {},
     "outputs": [],
     "prompt_number": 55
    },
    {
     "cell_type": "code",
     "collapsed": false,
     "input": [
      "os.environ[\"CENSUS\"] = \"324fbab1e08ff17ae4f6e0c1dba2f37683080320\""
     ],
     "language": "python",
     "metadata": {},
     "outputs": [],
     "prompt_number": 2
    },
    {
     "cell_type": "code",
     "collapsed": false,
     "input": [
      "census_api = Census(os.environ[\"CENSUS\"])"
     ],
     "language": "python",
     "metadata": {},
     "outputs": [],
     "prompt_number": 3
    },
    {
     "cell_type": "code",
     "collapsed": false,
     "input": [
      "os.chdir(r\"/home/timothy/fall_2015_ucb/ual_tasks/housing_imputation\")"
     ],
     "language": "python",
     "metadata": {},
     "outputs": [],
     "prompt_number": 16
    },
    {
     "cell_type": "markdown",
     "metadata": {},
     "source": [
      "#Build Interoperability with SynthPop\n",
      "<ol><li>Built interoperability with census library for python since synthpop integrates with that library.</li>\n",
      "    <ol><li><strike>Turn the ACS5 (2007-2011) variables html page into a dataframe so it can be easily used -_-.</strike></li>\n",
      "        <li>Recreate the dataframe that contains the distribution of bedrooms per housing unit for every census tract in alameda county</li>\n",
      "        <li>Recreate the dataframe that contains the distribution bedrooms by tenure per housing unit for every census tract in alameda county</li>\n",
      "    </ol>\n",
      "    <li>Amend functions which operate using the census api driectly to have them use the helper functions from SynthPop</li>\n",
      "</ol>"
     ]
    },
    {
     "cell_type": "markdown",
     "metadata": {},
     "source": [
      "##<font color = B404AE>Create dataframe of ACS5 Summary File Variables</font>"
     ]
    },
    {
     "cell_type": "code",
     "collapsed": false,
     "input": [
      "with open(r\"Census Data API: _data_2011_acs5_variables.html\", 'rb') as f:\n",
      "    acs5_2011_var_soup = BeautifulSoup(f, \"lxml\")"
     ],
     "language": "python",
     "metadata": {},
     "outputs": [],
     "prompt_number": 28
    },
    {
     "cell_type": "code",
     "collapsed": false,
     "input": [
      "table_columns = []\n",
      "\n",
      "acs5_tabel_heading = acs5_2011_var_soup.thead.tr\n",
      "for child in acs5_tabel_heading.children:\n",
      "    if child.string == '\\n':\n",
      "        continue\n",
      "    table_columns.append(str(child.string))\n",
      "\n",
      "print table_columns"
     ],
     "language": "python",
     "metadata": {},
     "outputs": [
      {
       "output_type": "stream",
       "stream": "stdout",
       "text": [
        "['Name', 'Label', 'Concept', 'Required', 'Predicate Type']\n"
       ]
      }
     ],
     "prompt_number": 96
    },
    {
     "cell_type": "code",
     "collapsed": false,
     "input": [
      "acs5_var_table = acs5_2011_var_soup.tbody"
     ],
     "language": "python",
     "metadata": {},
     "outputs": [],
     "prompt_number": 29
    },
    {
     "cell_type": "code",
     "collapsed": false,
     "input": [
      "test_row = acs5_var_table.contents[1]\n",
      "test_row"
     ],
     "language": "python",
     "metadata": {},
     "outputs": [
      {
       "metadata": {},
       "output_type": "pyout",
       "prompt_number": 31,
       "text": [
        "<tr>\n",
        "<td><a href=\"variables/AIANHH.json\" name=\"AIANHH\">AIANHH</a></td><td>AIANHH</td><td>Geographic Summary Level</td><td>not required</td><td><span class=\"na\">(not a predicate)</span></td>\n",
        "</tr>"
       ]
      }
     ],
     "prompt_number": 31
    },
    {
     "cell_type": "code",
     "collapsed": false,
     "input": [
      "for c in test_row.children:\n",
      "    if c.string == '\\n':\n",
      "        continue\n",
      "    print str(c.string)"
     ],
     "language": "python",
     "metadata": {},
     "outputs": [
      {
       "output_type": "stream",
       "stream": "stdout",
       "text": [
        "AIANHH\n",
        "AIANHH\n",
        "Geographic Summary Level\n",
        "not required\n",
        "(not a predicate)\n"
       ]
      }
     ],
     "prompt_number": 87
    },
    {
     "cell_type": "code",
     "collapsed": false,
     "input": [
      "acs_var_data = []\n",
      "for row in acs5_var_table.contents:\n",
      "    if row == '\\n' or row == '':\n",
      "        continue \n",
      "    row_data = []\n",
      "    for column in row.children:\n",
      "        if column.string == '\\n' or column.string == '':\n",
      "            continue\n",
      "        row_data.append(str(column.string))\n",
      "    acs_var_data.append(row_data)\n",
      "print \"There are {} rows in the acs variable data\".format(len(acs_var_data))"
     ],
     "language": "python",
     "metadata": {},
     "outputs": [
      {
       "output_type": "stream",
       "stream": "stdout",
       "text": [
        "There are 42101 rows in the acs variable data\n"
       ]
      }
     ],
     "prompt_number": 99
    },
    {
     "cell_type": "code",
     "collapsed": false,
     "input": [
      "acs_variable_df = pd.DataFrame(acs_var_data, columns = table_columns, dtype=str)"
     ],
     "language": "python",
     "metadata": {},
     "outputs": [],
     "prompt_number": 100
    },
    {
     "cell_type": "code",
     "collapsed": false,
     "input": [
      "acs_variable_df.head()"
     ],
     "language": "python",
     "metadata": {},
     "outputs": [
      {
       "html": [
        "<div style=\"max-height:1000px;max-width:1500px;overflow:auto;\">\n",
        "<table border=\"1\" class=\"dataframe\">\n",
        "  <thead>\n",
        "    <tr style=\"text-align: right;\">\n",
        "      <th></th>\n",
        "      <th>Name</th>\n",
        "      <th>Label</th>\n",
        "      <th>Concept</th>\n",
        "      <th>Required</th>\n",
        "      <th>Predicate Type</th>\n",
        "    </tr>\n",
        "  </thead>\n",
        "  <tbody>\n",
        "    <tr>\n",
        "      <th>0</th>\n",
        "      <td>      AIANHH</td>\n",
        "      <td>                     AIANHH</td>\n",
        "      <td>                          Geographic Summary Level</td>\n",
        "      <td> not required</td>\n",
        "      <td> (not a predicate)</td>\n",
        "    </tr>\n",
        "    <tr>\n",
        "      <th>1</th>\n",
        "      <td> B00001_001E</td>\n",
        "      <td>                      Total</td>\n",
        "      <td> B00001.  Unweighted Sample Count of the Popula...</td>\n",
        "      <td> not required</td>\n",
        "      <td> (not a predicate)</td>\n",
        "    </tr>\n",
        "    <tr>\n",
        "      <th>2</th>\n",
        "      <td> B00001_001M</td>\n",
        "      <td> Margin Of Error For!!Total</td>\n",
        "      <td> B00001.  Unweighted Sample Count of the Popula...</td>\n",
        "      <td> not required</td>\n",
        "      <td> (not a predicate)</td>\n",
        "    </tr>\n",
        "    <tr>\n",
        "      <th>3</th>\n",
        "      <td> B00002_001E</td>\n",
        "      <td>                      Total</td>\n",
        "      <td>          B00002.  Unweighted Sample Housing Units</td>\n",
        "      <td> not required</td>\n",
        "      <td> (not a predicate)</td>\n",
        "    </tr>\n",
        "    <tr>\n",
        "      <th>4</th>\n",
        "      <td> B00002_001M</td>\n",
        "      <td> Margin Of Error For!!Total</td>\n",
        "      <td>          B00002.  Unweighted Sample Housing Units</td>\n",
        "      <td> not required</td>\n",
        "      <td> (not a predicate)</td>\n",
        "    </tr>\n",
        "  </tbody>\n",
        "</table>\n",
        "</div>"
       ],
       "metadata": {},
       "output_type": "pyout",
       "prompt_number": 142,
       "text": [
        "          Name                       Label  \\\n",
        "0       AIANHH                      AIANHH   \n",
        "1  B00001_001E                       Total   \n",
        "2  B00001_001M  Margin Of Error For!!Total   \n",
        "3  B00002_001E                       Total   \n",
        "4  B00002_001M  Margin Of Error For!!Total   \n",
        "\n",
        "                                             Concept      Required  \\\n",
        "0                           Geographic Summary Level  not required   \n",
        "1  B00001.  Unweighted Sample Count of the Popula...  not required   \n",
        "2  B00001.  Unweighted Sample Count of the Popula...  not required   \n",
        "3           B00002.  Unweighted Sample Housing Units  not required   \n",
        "4           B00002.  Unweighted Sample Housing Units  not required   \n",
        "\n",
        "      Predicate Type  \n",
        "0  (not a predicate)  \n",
        "1  (not a predicate)  \n",
        "2  (not a predicate)  \n",
        "3  (not a predicate)  \n",
        "4  (not a predicate)  "
       ]
      }
     ],
     "prompt_number": 142
    },
    {
     "cell_type": "code",
     "collapsed": false,
     "input": [
      "#This cell was run only once to create the hdf5 store. There is no need to run this cell again. \n",
      "#Doing so will delete the store's contents.\n",
      "\n",
      "# store = h5py.File(\"helpful_census_documentation.hdf5\", 'w')\n",
      "# store.close()"
     ],
     "language": "python",
     "metadata": {},
     "outputs": [],
     "prompt_number": 56
    },
    {
     "cell_type": "code",
     "collapsed": false,
     "input": [
      "acs_variable_df.to_hdf(\"helpful_census_documentation.hdf5\", \"acs5_2007to2011_variables\")"
     ],
     "language": "python",
     "metadata": {},
     "outputs": [],
     "prompt_number": 104
    },
    {
     "cell_type": "markdown",
     "metadata": {},
     "source": [
      "##<font color = B404AE>Make imputation function interoperable with python's census module</font>"
     ]
    },
    {
     "cell_type": "code",
     "collapsed": false,
     "input": [
      "cond1 = acs_variable_df.Name.str.contains(\"B25041\", flags=re.I)\n",
      "cond2 = acs_variable_df.Name.str.contains(\"M\")\n",
      "relevant_df = acs_variable_df[cond1 & ~cond2]\n",
      "bedroom_tables = relevant_df.Name.values\n",
      "bedroom_labels = relevant_df.Label.values"
     ],
     "language": "python",
     "metadata": {},
     "outputs": [],
     "prompt_number": 155
    },
    {
     "cell_type": "code",
     "collapsed": false,
     "input": [
      "bedroom_tables"
     ],
     "language": "python",
     "metadata": {},
     "outputs": [
      {
       "metadata": {},
       "output_type": "pyout",
       "prompt_number": 156,
       "text": [
        "array(['B25041_001E', 'B25041_002E', 'B25041_003E', 'B25041_004E',\n",
        "       'B25041_005E', 'B25041_006E', 'B25041_007E'], dtype=object)"
       ]
      }
     ],
     "prompt_number": 156
    },
    {
     "cell_type": "code",
     "collapsed": false,
     "input": [
      "bedroom_labels"
     ],
     "language": "python",
     "metadata": {},
     "outputs": [
      {
       "metadata": {},
       "output_type": "pyout",
       "prompt_number": 157,
       "text": [
        "array(['Total:', 'No bedroom', '1 bedroom', '2 bedrooms', '3 bedrooms',\n",
        "       '4 bedrooms', '5 or more bedrooms'], dtype=object)"
       ]
      }
     ],
     "prompt_number": 157
    },
    {
     "cell_type": "code",
     "collapsed": false,
     "input": [
      "name_arg = tuple(['NAME'] + bedroom_tables.tolist())\n",
      "api_bedrooms = census_api.acs5.get(name_arg, {'for': 'tract:*', 'in': 'state:%s county: 001' % states.CA.fips})\n",
      "api_bedrooms[:2]"
     ],
     "language": "python",
     "metadata": {},
     "outputs": [
      {
       "metadata": {},
       "output_type": "pyout",
       "prompt_number": 166,
       "text": [
        "[{u'B25041_001E': u'1425',\n",
        "  u'B25041_002E': u'52',\n",
        "  u'B25041_003E': u'80',\n",
        "  u'B25041_004E': u'169',\n",
        "  u'B25041_005E': u'578',\n",
        "  u'B25041_006E': u'451',\n",
        "  u'B25041_007E': u'95',\n",
        "  u'NAME': u'Census Tract 4001, Alameda County, California',\n",
        "  u'county': u'001',\n",
        "  u'state': u'06',\n",
        "  u'tract': u'400100'},\n",
        " {u'B25041_001E': u'929',\n",
        "  u'B25041_002E': u'28',\n",
        "  u'B25041_003E': u'152',\n",
        "  u'B25041_004E': u'255',\n",
        "  u'B25041_005E': u'320',\n",
        "  u'B25041_006E': u'163',\n",
        "  u'B25041_007E': u'11',\n",
        "  u'NAME': u'Census Tract 4002, Alameda County, California',\n",
        "  u'county': u'001',\n",
        "  u'state': u'06',\n",
        "  u'tract': u'400200'}]"
       ]
      }
     ],
     "prompt_number": 166
    },
    {
     "cell_type": "code",
     "collapsed": false,
     "input": [
      "bedroom_tables"
     ],
     "language": "python",
     "metadata": {},
     "outputs": [
      {
       "metadata": {},
       "output_type": "pyout",
       "prompt_number": 140,
       "text": [
        "array(['B25041_001E', 'B25041_002E', 'B25041_003E', 'B25041_004E',\n",
        "       'B25041_005E', 'B25041_006E', 'B25041_007E'], dtype=object)"
       ]
      }
     ],
     "prompt_number": 140
    },
    {
     "cell_type": "code",
     "collapsed": false,
     "input": [
      "def get_census_data(base_table, data_set, county, state, geography, year):\n",
      "    \"\"\"base_table = The overall table name for which you want data, e.g. 'B25041'. This should be a string\n",
      "    data_set = The specific dataset to consult. Can be 'ACS5', 'SF1', or 'SF3'\n",
      "    county = the three-digit FIPS code for the county we want census data for. This should be a string.\n",
      "    state = the two-digit FIPS code for the state we want census data for. This should be a string.\n",
      "    ==========\n",
      "    Returns a pandas dataframe where the index is the six-digit census tract number (as a string) and the\n",
      "    row contains the information from the base_table for that particular census tract\"\"\"\n",
      "    api_table_names, api_table_labels = get_specific_table_names(base_table)\n",
      "    \n",
      "    census_wrapper = Census(os.environ[\"CENSUS\"])\n",
      "    \n",
      "    raw_api_data = make_api_request(census_wrapper, api_table_names, data_set,\n",
      "                                    county, state, geography, year)\n",
      "    \n",
      "    processed_data, data_index = parse_api_data(raw_api_data, api_table_names)\n",
      "    \n",
      "    return pd.DataFrame(processed_data, index = data_index, columns = api_table_labels)"
     ],
     "language": "python",
     "metadata": {},
     "outputs": []
    },
    {
     "cell_type": "code",
     "collapsed": false,
     "input": [
      "def parse_api_data(raw_api_data, api_table_names):\n",
      "    data = []\n",
      "    index_list = []\n",
      "    for census_record in raw_api_data:\n",
      "        new_row = []\n",
      "        for table in api_table_names:\n",
      "            data_point = census_record[table]\n",
      "            if data_point.isdigit():\n",
      "                data_point = int(data_point)\n",
      "            elif \".\" in data_point:\n",
      "                loc = data_point.find(\".\")\n",
      "                half_1 = data_point[:loc]\n",
      "                half_2 = data_point[loc+1:]\n",
      "                if half_1.isdigit() and half_2.isdigit():\n",
      "                    data_point = float(data_point)\n",
      "            else:\n",
      "                raise Exception(\"This record {} is neither an integer nor a float\".format(data_point))\n",
      "            new_row.append(data_point)\n",
      "        if \"state\" in census_record and \"county\" in census_record and \"tract\" in census_record:\n",
      "            state = census_record[\"state\"]\n",
      "            county = census_record[\"county\"]\n",
      "            tract = census_record[\"tract\"]\n",
      "            index_list.append(state + county + tract)\n",
      "        data.append(new_row)\n",
      "    return data, index_list"
     ],
     "language": "python",
     "metadata": {},
     "outputs": [],
     "prompt_number": 149
    },
    {
     "cell_type": "code",
     "collapsed": false,
     "input": [
      "test_data, test_index = parse_api_data(api_bedrooms, bedroom_tables)"
     ],
     "language": "python",
     "metadata": {},
     "outputs": [],
     "prompt_number": 150
    },
    {
     "cell_type": "code",
     "collapsed": false,
     "input": [
      "test_final = pd.DataFrame(test_data, index=test_index, columns = bedroom_labels)\n",
      "test_final.head()"
     ],
     "language": "python",
     "metadata": {},
     "outputs": [
      {
       "html": [
        "<div style=\"max-height:1000px;max-width:1500px;overflow:auto;\">\n",
        "<table border=\"1\" class=\"dataframe\">\n",
        "  <thead>\n",
        "    <tr style=\"text-align: right;\">\n",
        "      <th></th>\n",
        "      <th>Total:</th>\n",
        "      <th>No bedroom</th>\n",
        "      <th>1 bedroom</th>\n",
        "      <th>2 bedrooms</th>\n",
        "      <th>3 bedrooms</th>\n",
        "      <th>4 bedrooms</th>\n",
        "      <th>5 or more bedrooms</th>\n",
        "    </tr>\n",
        "  </thead>\n",
        "  <tbody>\n",
        "    <tr>\n",
        "      <th>06001400100</th>\n",
        "      <td> 1425</td>\n",
        "      <td>  52</td>\n",
        "      <td>  80</td>\n",
        "      <td> 169</td>\n",
        "      <td> 578</td>\n",
        "      <td> 451</td>\n",
        "      <td> 95</td>\n",
        "    </tr>\n",
        "    <tr>\n",
        "      <th>06001400200</th>\n",
        "      <td>  929</td>\n",
        "      <td>  28</td>\n",
        "      <td> 152</td>\n",
        "      <td> 255</td>\n",
        "      <td> 320</td>\n",
        "      <td> 163</td>\n",
        "      <td> 11</td>\n",
        "    </tr>\n",
        "    <tr>\n",
        "      <th>06001400300</th>\n",
        "      <td> 2655</td>\n",
        "      <td> 304</td>\n",
        "      <td> 754</td>\n",
        "      <td> 774</td>\n",
        "      <td> 541</td>\n",
        "      <td> 209</td>\n",
        "      <td> 73</td>\n",
        "    </tr>\n",
        "    <tr>\n",
        "      <th>06001400400</th>\n",
        "      <td> 1911</td>\n",
        "      <td> 100</td>\n",
        "      <td> 529</td>\n",
        "      <td> 644</td>\n",
        "      <td> 418</td>\n",
        "      <td> 140</td>\n",
        "      <td> 80</td>\n",
        "    </tr>\n",
        "    <tr>\n",
        "      <th>06001400500</th>\n",
        "      <td> 1703</td>\n",
        "      <td>  84</td>\n",
        "      <td> 515</td>\n",
        "      <td> 648</td>\n",
        "      <td> 328</td>\n",
        "      <td>  92</td>\n",
        "      <td> 36</td>\n",
        "    </tr>\n",
        "  </tbody>\n",
        "</table>\n",
        "</div>"
       ],
       "metadata": {},
       "output_type": "pyout",
       "prompt_number": 161,
       "text": [
        "             Total:  No bedroom  1 bedroom  2 bedrooms  3 bedrooms  \\\n",
        "06001400100    1425          52         80         169         578   \n",
        "06001400200     929          28        152         255         320   \n",
        "06001400300    2655         304        754         774         541   \n",
        "06001400400    1911         100        529         644         418   \n",
        "06001400500    1703          84        515         648         328   \n",
        "\n",
        "             4 bedrooms  5 or more bedrooms  \n",
        "06001400100         451                  95  \n",
        "06001400200         163                  11  \n",
        "06001400300         209                  73  \n",
        "06001400400         140                  80  \n",
        "06001400500          92                  36  "
       ]
      }
     ],
     "prompt_number": 161
    },
    {
     "cell_type": "code",
     "collapsed": false,
     "input": [
      "def get_specific_table_names(base_table):\n",
      "    cond1 = acs_variable_df.Name.str.contains(base_table, flags=re.I)\n",
      "    cond2 = acs_variable_df.Name.str.contains(\"M\")\n",
      "    relevant_df = acs_variable_df[cond1 & ~cond2]\n",
      "    return relevant_df.Name.values, relevant_df.Label.values"
     ],
     "language": "python",
     "metadata": {},
     "outputs": [],
     "prompt_number": 164
    },
    {
     "cell_type": "code",
     "collapsed": false,
     "input": [
      "get_specific_table_names(\"B25042\")"
     ],
     "language": "python",
     "metadata": {},
     "outputs": [
      {
       "metadata": {},
       "output_type": "pyout",
       "prompt_number": 165,
       "text": [
        "(array(['B25042_001E', 'B25042_002E', 'B25042_003E', 'B25042_004E',\n",
        "       'B25042_005E', 'B25042_006E', 'B25042_007E', 'B25042_008E',\n",
        "       'B25042_009E', 'B25042_010E', 'B25042_011E', 'B25042_012E',\n",
        "       'B25042_013E', 'B25042_014E', 'B25042_015E'], dtype=object),\n",
        " array(['Total:', 'Owner occupied:', 'Owner occupied:!!No bedroom',\n",
        "       'Owner occupied:!!1 bedroom', 'Owner occupied:!!2 bedrooms',\n",
        "       'Owner occupied:!!3 bedrooms', 'Owner occupied:!!4 bedrooms',\n",
        "       'Owner occupied:!!5 or more bedrooms', 'Renter occupied:',\n",
        "       'Renter occupied:!!No bedroom', 'Renter occupied:!!1 bedroom',\n",
        "       'Renter occupied:!!2 bedrooms', 'Renter occupied:!!3 bedrooms',\n",
        "       'Renter occupied:!!4 bedrooms',\n",
        "       'Renter occupied:!!5 or more bedrooms'], dtype=object))"
       ]
      }
     ],
     "prompt_number": 165
    },
    {
     "cell_type": "code",
     "collapsed": false,
     "input": [
      "def make_api_request(census_wrapper, api_table_names, data_set, county, state, geography, year):\n",
      "    #Fill out the contents of this function"
     ],
     "language": "python",
     "metadata": {},
     "outputs": []
    },
    {
     "cell_type": "markdown",
     "metadata": {},
     "source": [
      "###<font color='red'>Next Steps:</font>\n",
      "<ol>\n",
      "    <li>Create the make_api_request() function so that it operates on the inputs above and carries out the appropriate method call using the census api.</li>\n",
      "    <li>Amend the get_specific_table_names() and the make_api_request() functions to be more general than they are now, able to make use of any necessary year, geography, and data_set that the user desires and that the census api supports.</li>\n",
      "    <li>Do a final check that the get_census_data function will return a pandas dataframe of raw counts that can be turned into a distribution</li>\n",
      "    <li>Create a module, perhaps called census_utils, that contains all the necessary helper functions to get the raw data for and transform the raw data to a distribution that can be used with my imputation functions.</li>\n",
      "</ol>"
     ]
    },
    {
     "cell_type": "code",
     "collapsed": false,
     "input": [],
     "language": "python",
     "metadata": {},
     "outputs": []
    }
   ],
   "metadata": {}
  }
 ]
}