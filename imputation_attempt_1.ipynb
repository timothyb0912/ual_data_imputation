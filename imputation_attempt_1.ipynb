{
 "metadata": {
  "name": "imputation_attempt_1.ipynb"
 },
 "nbformat": 3,
 "nbformat_minor": 0,
 "worksheets": [
  {
   "cells": [
    {
     "cell_type": "code",
     "collapsed": false,
     "input": [
      "import pandas as pd\n",
      "import numpy as np\n",
      "from copy import deepcopy\n",
      "import os"
     ],
     "language": "python",
     "metadata": {},
     "outputs": [],
     "prompt_number": 1
    },
    {
     "cell_type": "markdown",
     "metadata": {},
     "source": [
      "##Create function to perform the data imputation"
     ]
    },
    {
     "cell_type": "code",
     "collapsed": false,
     "input": [
      "def impute_from_dist(distribution, num):\n",
      "    \"\"\"distribution = a pandas series where the keys are the possible outcomes for each imputed object.\n",
      "    The values should be the probability of any imputed object being having a given outcome.\n",
      "    \n",
      "    num = the number of objects being imputed\n",
      "    ====================\n",
      "    Returns a pandas series where each value contains an outcome from 'distribution', drawn without\n",
      "    replacement so that probabilities in 'distribution' are approximately correct and so that total\n",
      "    number of items drawn is equal to 'num' \"\"\"\n",
      "    assert isinstance(distribution, pd.Series)\n",
      "    assert isinstance(num, int)\n",
      "    \n",
      "    enumerated_options = []\n",
      "    for key, val in distribution.iteritems():\n",
      "        enumerated_options.extend([key for x in range(int(round(val*num)))])\n",
      "        \n",
      "    return check_enumeration(enumerated_options, distribution, num)"
     ],
     "language": "python",
     "metadata": {},
     "outputs": [],
     "prompt_number": 2
    },
    {
     "cell_type": "code",
     "collapsed": false,
     "input": [
      "def check_enumeration(enumeration, distribution, num):\n",
      "    \"\"\"enumeration = a list where each entry in the list is one of the objects from distribution.keys()\n",
      "    \n",
      "    distribution = a pandas series where the keys are the possible outcomes for each imputed object.\n",
      "    The values should be the probability of any imputed object being having a given outcome.\n",
      "    \n",
      "    num = the number of objects being imputed\n",
      "    ====================\n",
      "    This function first makes sure that all of the possible outcomes, based on the initial distribution,\n",
      "    are represented in the enumeration. It also makes sure that the length of the enumeration is correct.\n",
      "    \n",
      "    Returns a pandas series where each value contains an outcome from 'distribution', drawn without\n",
      "    replacement so that probabilities in 'distribution' are approximately correct and so that total\n",
      "    number of items drawn is equal to 'num' \"\"\"\n",
      "    total = len(enumeration)\n",
      "    length_diff = total - num\n",
      "    if len(set(enumeration)) == len(distribution.keys()) and length_diff == 0:\n",
      "        return pd.Series(enumeration)\n",
      "    else:\n",
      "        return alter_enumeration(enumeration, distribution, num, length_diff)"
     ],
     "language": "python",
     "metadata": {},
     "outputs": [],
     "prompt_number": 3
    },
    {
     "cell_type": "code",
     "collapsed": false,
     "input": [
      "def alter_enumeration(enumeration, distribution, num, length_diff):\n",
      "    \"\"\"enumeration = a list where each entry in the list is one of the objects from distribution.keys()\n",
      "    \n",
      "    distribution = a pandas series where the keys are the possible outcomes for each imputed object.\n",
      "    The values should be the probability of any imputed object being having a given outcome.\n",
      "    \n",
      "    num = the number of objects being imputed\n",
      "    \n",
      "    length_diff = len(enumeration) - num\n",
      "    ====================\n",
      "    Returns a pandas series where each value contains an outcome from 'distribution', drawn without\n",
      "    replacement so that probabilities in 'distribution' are approximately correct and so that total\n",
      "    number of items drawn is equal to 'num' \"\"\"\n",
      "    new_enumeration = deepcopy(enumeration)\n",
      "    realized_outcomes = set(new_enumeration)    \n",
      "    distribution_keys = distribution.keys().tolist()\n",
      "    \n",
      "    actual_vs_imputed = difference_from_expected_enumeration(new_enumeration, distribution, realized_outcomes, \n",
      "                                                             distribution_keys, length_diff, num)\n",
      "    \n",
      "    fix_enumeration_length(new_enumeration, realized_outcomes, actual_vs_imputed, length_diff, num)\n",
      "    \n",
      "    add_missing_outcomes(new_enumeration, distribution, distribution_keys)\n",
      "    \n",
      "    np.random.shuffle(new_enumeration)\n",
      "    return pd.Series(new_enumeration)"
     ],
     "language": "python",
     "metadata": {},
     "outputs": [],
     "prompt_number": 4
    },
    {
     "cell_type": "code",
     "collapsed": false,
     "input": [
      "def difference_from_expected_enumeration(new_enumeration, distribution, realized_outcomes,\n",
      "                                         distribution_keys, length_diff, num):\n",
      "    \"\"\"new_enumeration = a list where each entry in the list is one of the objects from distribution.keys()\n",
      "    \n",
      "    distribution = a pandas series where the keys are the possible outcomes for each imputed object.\n",
      "    The values should be the probability of any imputed object being having a given outcome.\n",
      "    \n",
      "    realized_outcomes = a set containing the unique entries from new_enumeration\n",
      "    \n",
      "    distribution_keys = a list containing the keys from 'distribution'\n",
      "     \n",
      "    length_diff = len(new_enumeration) - num\n",
      "    \n",
      "    num = the number of objects being imputed\n",
      "    ====================\n",
      "    Returns a pandas series where each key is a possible outcome from 'distribution' and each value\n",
      "    contains the difference between the actual number of times an outcome occured in new_enumeration\n",
      "    and the number of times that outcome was expected to occur based on 'distribution' and 'num'.\"\"\"\n",
      "    enumerated_frequencies = pd.Series(new_enumeration).value_counts()\n",
      "    enumeration_differences = {}\n",
      "    \n",
      "    for key, value in distribution.iteritems():\n",
      "        if key in realized_outcomes:\n",
      "            enumeration_differences[key] = enumerated_frequencies.at[key] - value * num\n",
      "        else:\n",
      "            enumeration_differences[key] = -value * num\n",
      "            \n",
      "    enumeration_differences = pd.Series(enumeration_differences)\n",
      "    enumeration_differences.sort(ascending = (length_diff > 0))\n",
      "    \n",
      "    return enumeration_differences"
     ],
     "language": "python",
     "metadata": {},
     "outputs": [],
     "prompt_number": 5
    },
    {
     "cell_type": "code",
     "collapsed": false,
     "input": [
      "def fix_enumeration_length(new_enumeration, realized_outcomes, enumeration_differences, length_diff, num):\n",
      "    \"\"\"new_enumeration = a list where each entry in the list is one of the objects from distribution.keys()\n",
      "    \n",
      "    enumeration_differences = a pandas series where each key is a possible outcome and each value\n",
      "    contains the difference between the actual number of times that outcome occured in new_enumeration\n",
      "    and the number of times that outcome was expected to occur, based on the distribution used to create\n",
      "    new_enumeration and 'num'.\n",
      "     \n",
      "    length_diff = len(new_enumeration) - num\n",
      "    \n",
      "    num = the number of objects being imputed\n",
      "    ====================\n",
      "    Alters the length of new enumeration by removing excess or adding needed elements. The elements removed\n",
      "    are instances of the element whose frequency is most excessive compared to its expected frequency. The\n",
      "    elements added are the elements whose frequency is smallest compared to its expected frequency.\"\"\"\n",
      "    new_length = len(new_enumeration)\n",
      "    if new_length != num:\n",
      "        key_generator = get_item_loop(enumeration_differences.keys().tolist())\n",
      "        while new_length != num:\n",
      "            key = key_generator.next()\n",
      "            if length_diff < 0:\n",
      "                new_enumeration.append(key)\n",
      "                new_length += 1\n",
      "            else:\n",
      "                while key not in realized_outcomes:\n",
      "                    key = key_generator.next()\n",
      "                new_enumeration.remove(key)\n",
      "                new_length -= 1"
     ],
     "language": "python",
     "metadata": {},
     "outputs": [],
     "prompt_number": 6
    },
    {
     "cell_type": "code",
     "collapsed": false,
     "input": [
      "def get_item_loop(item_list):\n",
      "    \"\"\"item_list = a list of objects to be repeatedly returned.\n",
      "    ====================\n",
      "    Returns a generator which endlessly cycles through the elements of item_list in the order \n",
      "    that the elements appear within item_list\"\"\"\n",
      "    assert isinstance(item_list, list)\n",
      "    n = 0\n",
      "    max_n = len(item_list) - 1\n",
      "    while n > -1:\n",
      "        if n > max_n:\n",
      "            n = 0\n",
      "        yield item_list[n]\n",
      "        n += 1"
     ],
     "language": "python",
     "metadata": {},
     "outputs": [],
     "prompt_number": 7
    },
    {
     "cell_type": "code",
     "collapsed": false,
     "input": [
      "def add_missing_outcomes(new_enumeration, distribution, distribution_keys):\n",
      "    \"\"\"new_enumeration = a list where each entry in the list is one of the objects from distribution.keys()\n",
      "    \n",
      "    distribution = a pandas series where the keys are the possible outcomes for each imputed object.\n",
      "    The values should be the probability of any imputed object being having a given outcome.\n",
      "    \n",
      "    distribution_keys = a list containing the keys from 'distribution'\n",
      "    ====================\n",
      "    Alters new_enumeration by adding a single instance of any outcomes which have a non-zero probability of\n",
      "    occuring, based on 'distribution,' but which failed to show up in the initial enumeration. Space in the\n",
      "    enumeration will be created for each outcome to be added by removing one instance of the most frequently\n",
      "    occuring outcome.\"\"\"\n",
      "    left_out = list(set(distribution_keys).difference(set(new_enumeration)))\n",
      "    if len(left_out) > 0:\n",
      "        enumerated_frequencies = pd.Series(new_enumeration).value_counts()\n",
      "        for key in left_out:\n",
      "            if distribution[key] != 0.0:\n",
      "                new_enumeration.remove(enumerated_frequencies.index[0])\n",
      "                new_enumeration.append(key)"
     ],
     "language": "python",
     "metadata": {},
     "outputs": [],
     "prompt_number": 8
    },
    {
     "cell_type": "markdown",
     "metadata": {},
     "source": [
      "##Import data to test the function with"
     ]
    },
    {
     "cell_type": "code",
     "collapsed": false,
     "input": [
      "census_bedrooms = pd.read_csv(\"census_acs5_2012_B25041_Bedrooms.csv\", index_col = 0)"
     ],
     "language": "python",
     "metadata": {},
     "outputs": [],
     "prompt_number": 9
    },
    {
     "cell_type": "code",
     "collapsed": false,
     "input": [
      "census_bedrooms.head()"
     ],
     "language": "python",
     "metadata": {},
     "outputs": [
      {
       "html": [
        "<div style=\"max-height:1000px;max-width:1500px;overflow:auto;\">\n",
        "<table border=\"1\" class=\"dataframe\">\n",
        "  <thead>\n",
        "    <tr style=\"text-align: right;\">\n",
        "      <th></th>\n",
        "      <th>Total:</th>\n",
        "      <th>No bedroom</th>\n",
        "      <th>1 bedroom</th>\n",
        "      <th>2 bedrooms</th>\n",
        "      <th>3 bedrooms</th>\n",
        "      <th>4 bedrooms</th>\n",
        "      <th>5 or more bedrooms</th>\n",
        "      <th>county</th>\n",
        "    </tr>\n",
        "  </thead>\n",
        "  <tbody>\n",
        "    <tr>\n",
        "      <th>6001400100</th>\n",
        "      <td> 1413</td>\n",
        "      <td>  17</td>\n",
        "      <td>  72</td>\n",
        "      <td> 232</td>\n",
        "      <td> 560</td>\n",
        "      <td> 439</td>\n",
        "      <td>  93</td>\n",
        "      <td> ala</td>\n",
        "    </tr>\n",
        "    <tr>\n",
        "      <th>6001400200</th>\n",
        "      <td>  913</td>\n",
        "      <td>  16</td>\n",
        "      <td> 151</td>\n",
        "      <td> 248</td>\n",
        "      <td> 326</td>\n",
        "      <td> 147</td>\n",
        "      <td>  25</td>\n",
        "      <td> ala</td>\n",
        "    </tr>\n",
        "    <tr>\n",
        "      <th>6001400300</th>\n",
        "      <td> 2622</td>\n",
        "      <td> 251</td>\n",
        "      <td> 797</td>\n",
        "      <td> 846</td>\n",
        "      <td> 421</td>\n",
        "      <td> 173</td>\n",
        "      <td> 134</td>\n",
        "      <td> ala</td>\n",
        "    </tr>\n",
        "    <tr>\n",
        "      <th>6001400400</th>\n",
        "      <td> 1920</td>\n",
        "      <td> 112</td>\n",
        "      <td> 457</td>\n",
        "      <td> 722</td>\n",
        "      <td> 448</td>\n",
        "      <td> 104</td>\n",
        "      <td>  77</td>\n",
        "      <td> ala</td>\n",
        "    </tr>\n",
        "    <tr>\n",
        "      <th>6001400500</th>\n",
        "      <td> 1678</td>\n",
        "      <td>  89</td>\n",
        "      <td> 430</td>\n",
        "      <td> 585</td>\n",
        "      <td> 381</td>\n",
        "      <td> 160</td>\n",
        "      <td>  33</td>\n",
        "      <td> ala</td>\n",
        "    </tr>\n",
        "  </tbody>\n",
        "</table>\n",
        "</div>"
       ],
       "metadata": {},
       "output_type": "pyout",
       "prompt_number": 10,
       "text": [
        "            Total:  No bedroom  1 bedroom  2 bedrooms  3 bedrooms  4 bedrooms  \\\n",
        "6001400100    1413          17         72         232         560         439   \n",
        "6001400200     913          16        151         248         326         147   \n",
        "6001400300    2622         251        797         846         421         173   \n",
        "6001400400    1920         112        457         722         448         104   \n",
        "6001400500    1678          89        430         585         381         160   \n",
        "\n",
        "            5 or more bedrooms county  \n",
        "6001400100                  93    ala  \n",
        "6001400200                  25    ala  \n",
        "6001400300                 134    ala  \n",
        "6001400400                  77    ala  \n",
        "6001400500                  33    ala  "
       ]
      }
     ],
     "prompt_number": 10
    },
    {
     "cell_type": "code",
     "collapsed": false,
     "input": [
      "#Create a test distribution from the bedrooms file\n",
      "dist = census_bedrooms.iloc[0, 1:-1] / census_bedrooms.iat[0, 0]"
     ],
     "language": "python",
     "metadata": {},
     "outputs": [],
     "prompt_number": 11
    },
    {
     "cell_type": "markdown",
     "metadata": {},
     "source": [
      "##Test the imputation function on a marginal distribution"
     ]
    },
    {
     "cell_type": "code",
     "collapsed": false,
     "input": [
      "impute_from_dist(dist, 10)"
     ],
     "language": "python",
     "metadata": {},
     "outputs": [
      {
       "metadata": {},
       "output_type": "pyout",
       "prompt_number": 12,
       "text": [
        "0             1 bedroom\n",
        "1            4 bedrooms\n",
        "2            No bedroom\n",
        "3            3 bedrooms\n",
        "4            2 bedrooms\n",
        "5            3 bedrooms\n",
        "6            4 bedrooms\n",
        "7    5 or more bedrooms\n",
        "8            2 bedrooms\n",
        "9            3 bedrooms\n",
        "dtype: object"
       ]
      }
     ],
     "prompt_number": 12
    },
    {
     "cell_type": "markdown",
     "metadata": {},
     "source": [
      "####Compare the marginal distribution of the imputation vs the given marginal distribution"
     ]
    },
    {
     "cell_type": "code",
     "collapsed": false,
     "input": [
      "#Marginal distribution of the imputation\n",
      "s =200\n",
      "(impute_from_dist(dist, s).value_counts()/s)[dist.keys()]"
     ],
     "language": "python",
     "metadata": {},
     "outputs": [
      {
       "metadata": {},
       "output_type": "pyout",
       "prompt_number": 13,
       "text": [
        "No bedroom            0.010\n",
        "1 bedroom             0.050\n",
        "2 bedrooms            0.170\n",
        "3 bedrooms            0.395\n",
        "4 bedrooms            0.310\n",
        "5 or more bedrooms    0.065\n",
        "dtype: float64"
       ]
      }
     ],
     "prompt_number": 13
    },
    {
     "cell_type": "code",
     "collapsed": false,
     "input": [
      "#Given marginal distribution\n",
      "dist"
     ],
     "language": "python",
     "metadata": {},
     "outputs": [
      {
       "metadata": {},
       "output_type": "pyout",
       "prompt_number": 14,
       "text": [
        "No bedroom            0.01203114\n",
        "1 bedroom             0.05095541\n",
        "2 bedrooms             0.1641897\n",
        "3 bedrooms             0.3963199\n",
        "4 bedrooms             0.3106865\n",
        "5 or more bedrooms    0.06581741\n",
        "Name: 6001400100, dtype: object"
       ]
      }
     ],
     "prompt_number": 14
    },
    {
     "cell_type": "markdown",
     "metadata": {},
     "source": [
      "##Test the imputation function on a joint distribution"
     ]
    },
    {
     "cell_type": "code",
     "collapsed": false,
     "input": [
      "tenure_by_bedrooms = pd.read_csv(\"census_acs5_2012_B25042_TENURE_BY_BEDROOMS.csv\", index_col=0)"
     ],
     "language": "python",
     "metadata": {},
     "outputs": [],
     "prompt_number": 15
    },
    {
     "cell_type": "code",
     "collapsed": false,
     "input": [
      "tenure_by_bedrooms.head()"
     ],
     "language": "python",
     "metadata": {},
     "outputs": [
      {
       "html": [
        "<div style=\"max-height:1000px;max-width:1500px;overflow:auto;\">\n",
        "<table border=\"1\" class=\"dataframe\">\n",
        "  <thead>\n",
        "    <tr style=\"text-align: right;\">\n",
        "      <th></th>\n",
        "      <th>Total:</th>\n",
        "      <th>Owner occupied:</th>\n",
        "      <th>Owner occupied:!!No bedroom</th>\n",
        "      <th>Owner occupied:!!1 bedroom</th>\n",
        "      <th>Owner occupied:!!2 bedrooms</th>\n",
        "      <th>Owner occupied:!!3 bedrooms</th>\n",
        "      <th>Owner occupied:!!4 bedrooms</th>\n",
        "      <th>Owner occupied:!!5 or more bedrooms</th>\n",
        "      <th>Renter occupied:</th>\n",
        "      <th>Renter occupied:!!No bedroom</th>\n",
        "      <th>Renter occupied:!!1 bedroom</th>\n",
        "      <th>Renter occupied:!!2 bedrooms</th>\n",
        "      <th>Renter occupied:!!3 bedrooms</th>\n",
        "      <th>Renter occupied:!!4 bedrooms</th>\n",
        "      <th>Renter occupied:!!5 or more bedrooms</th>\n",
        "      <th>county</th>\n",
        "    </tr>\n",
        "  </thead>\n",
        "  <tbody>\n",
        "    <tr>\n",
        "      <th>6001400100</th>\n",
        "      <td> 1295</td>\n",
        "      <td> 1043</td>\n",
        "      <td> 6</td>\n",
        "      <td>  0</td>\n",
        "      <td> 144</td>\n",
        "      <td> 452</td>\n",
        "      <td> 348</td>\n",
        "      <td> 93</td>\n",
        "      <td>  252</td>\n",
        "      <td>   0</td>\n",
        "      <td>  72</td>\n",
        "      <td>  57</td>\n",
        "      <td> 68</td>\n",
        "      <td> 55</td>\n",
        "      <td>  0</td>\n",
        "      <td> ala</td>\n",
        "    </tr>\n",
        "    <tr>\n",
        "      <th>6001400200</th>\n",
        "      <td>  867</td>\n",
        "      <td>  600</td>\n",
        "      <td> 0</td>\n",
        "      <td> 15</td>\n",
        "      <td> 144</td>\n",
        "      <td> 284</td>\n",
        "      <td> 139</td>\n",
        "      <td> 18</td>\n",
        "      <td>  267</td>\n",
        "      <td>  16</td>\n",
        "      <td> 125</td>\n",
        "      <td>  93</td>\n",
        "      <td> 18</td>\n",
        "      <td>  8</td>\n",
        "      <td>  7</td>\n",
        "      <td> ala</td>\n",
        "    </tr>\n",
        "    <tr>\n",
        "      <th>6001400300</th>\n",
        "      <td> 2494</td>\n",
        "      <td> 1154</td>\n",
        "      <td> 0</td>\n",
        "      <td> 26</td>\n",
        "      <td> 538</td>\n",
        "      <td> 349</td>\n",
        "      <td> 145</td>\n",
        "      <td> 96</td>\n",
        "      <td> 1340</td>\n",
        "      <td> 205</td>\n",
        "      <td> 727</td>\n",
        "      <td> 308</td>\n",
        "      <td> 72</td>\n",
        "      <td> 28</td>\n",
        "      <td>  0</td>\n",
        "      <td> ala</td>\n",
        "    </tr>\n",
        "    <tr>\n",
        "      <th>6001400400</th>\n",
        "      <td> 1875</td>\n",
        "      <td>  807</td>\n",
        "      <td> 0</td>\n",
        "      <td> 67</td>\n",
        "      <td> 282</td>\n",
        "      <td> 348</td>\n",
        "      <td>  93</td>\n",
        "      <td> 17</td>\n",
        "      <td> 1068</td>\n",
        "      <td> 112</td>\n",
        "      <td> 390</td>\n",
        "      <td> 412</td>\n",
        "      <td> 94</td>\n",
        "      <td>  0</td>\n",
        "      <td> 60</td>\n",
        "      <td> ala</td>\n",
        "    </tr>\n",
        "    <tr>\n",
        "      <th>6001400500</th>\n",
        "      <td> 1574</td>\n",
        "      <td>  669</td>\n",
        "      <td> 0</td>\n",
        "      <td> 14</td>\n",
        "      <td> 224</td>\n",
        "      <td> 289</td>\n",
        "      <td> 109</td>\n",
        "      <td> 33</td>\n",
        "      <td>  905</td>\n",
        "      <td>  77</td>\n",
        "      <td> 416</td>\n",
        "      <td> 322</td>\n",
        "      <td> 64</td>\n",
        "      <td> 26</td>\n",
        "      <td>  0</td>\n",
        "      <td> ala</td>\n",
        "    </tr>\n",
        "  </tbody>\n",
        "</table>\n",
        "</div>"
       ],
       "metadata": {},
       "output_type": "pyout",
       "prompt_number": 16,
       "text": [
        "            Total:  Owner occupied:  Owner occupied:!!No bedroom  \\\n",
        "6001400100    1295             1043                            6   \n",
        "6001400200     867              600                            0   \n",
        "6001400300    2494             1154                            0   \n",
        "6001400400    1875              807                            0   \n",
        "6001400500    1574              669                            0   \n",
        "\n",
        "            Owner occupied:!!1 bedroom  Owner occupied:!!2 bedrooms  \\\n",
        "6001400100                           0                          144   \n",
        "6001400200                          15                          144   \n",
        "6001400300                          26                          538   \n",
        "6001400400                          67                          282   \n",
        "6001400500                          14                          224   \n",
        "\n",
        "            Owner occupied:!!3 bedrooms  Owner occupied:!!4 bedrooms  \\\n",
        "6001400100                          452                          348   \n",
        "6001400200                          284                          139   \n",
        "6001400300                          349                          145   \n",
        "6001400400                          348                           93   \n",
        "6001400500                          289                          109   \n",
        "\n",
        "            Owner occupied:!!5 or more bedrooms  Renter occupied:  \\\n",
        "6001400100                                   93               252   \n",
        "6001400200                                   18               267   \n",
        "6001400300                                   96              1340   \n",
        "6001400400                                   17              1068   \n",
        "6001400500                                   33               905   \n",
        "\n",
        "            Renter occupied:!!No bedroom  Renter occupied:!!1 bedroom  \\\n",
        "6001400100                             0                           72   \n",
        "6001400200                            16                          125   \n",
        "6001400300                           205                          727   \n",
        "6001400400                           112                          390   \n",
        "6001400500                            77                          416   \n",
        "\n",
        "            Renter occupied:!!2 bedrooms  Renter occupied:!!3 bedrooms  \\\n",
        "6001400100                            57                            68   \n",
        "6001400200                            93                            18   \n",
        "6001400300                           308                            72   \n",
        "6001400400                           412                            94   \n",
        "6001400500                           322                            64   \n",
        "\n",
        "            Renter occupied:!!4 bedrooms  \\\n",
        "6001400100                            55   \n",
        "6001400200                             8   \n",
        "6001400300                            28   \n",
        "6001400400                             0   \n",
        "6001400500                            26   \n",
        "\n",
        "            Renter occupied:!!5 or more bedrooms county  \n",
        "6001400100                                     0    ala  \n",
        "6001400200                                     7    ala  \n",
        "6001400300                                     0    ala  \n",
        "6001400400                                    60    ala  \n",
        "6001400500                                     0    ala  "
       ]
      }
     ],
     "prompt_number": 16
    },
    {
     "cell_type": "code",
     "collapsed": false,
     "input": [
      "joint_dist_columns = range(2, 8) + range(9, 15)\n",
      "joint_dist = tenure_by_bedrooms.iloc[0, joint_dist_columns] / tenure_by_bedrooms.iat[0, 0]"
     ],
     "language": "python",
     "metadata": {},
     "outputs": [],
     "prompt_number": 17
    },
    {
     "cell_type": "code",
     "collapsed": false,
     "input": [
      "impute_from_dist(joint_dist, 24)"
     ],
     "language": "python",
     "metadata": {},
     "outputs": [
      {
       "metadata": {},
       "output_type": "pyout",
       "prompt_number": 18,
       "text": [
        "0             Owner occupied:!!3 bedrooms\n",
        "1             Owner occupied:!!2 bedrooms\n",
        "2     Owner occupied:!!5 or more bedrooms\n",
        "3             Owner occupied:!!4 bedrooms\n",
        "4             Owner occupied:!!No bedroom\n",
        "5             Owner occupied:!!4 bedrooms\n",
        "6             Owner occupied:!!3 bedrooms\n",
        "7             Owner occupied:!!2 bedrooms\n",
        "8             Owner occupied:!!3 bedrooms\n",
        "9             Owner occupied:!!4 bedrooms\n",
        "10            Owner occupied:!!3 bedrooms\n",
        "11           Renter occupied:!!4 bedrooms\n",
        "12            Owner occupied:!!4 bedrooms\n",
        "13            Renter occupied:!!1 bedroom\n",
        "14            Owner occupied:!!3 bedrooms\n",
        "15            Owner occupied:!!2 bedrooms\n",
        "16           Renter occupied:!!3 bedrooms\n",
        "17           Renter occupied:!!2 bedrooms\n",
        "18            Owner occupied:!!3 bedrooms\n",
        "19    Owner occupied:!!5 or more bedrooms\n",
        "20            Owner occupied:!!4 bedrooms\n",
        "21            Owner occupied:!!2 bedrooms\n",
        "22            Owner occupied:!!4 bedrooms\n",
        "23            Owner occupied:!!3 bedrooms\n",
        "dtype: object"
       ]
      }
     ],
     "prompt_number": 18
    },
    {
     "cell_type": "markdown",
     "metadata": {},
     "source": [
      "<font size = 4>The function works on a joint distribution as well as a marginal distribution (see above). The imputed distribution, more or less, matches the original distribution--especially as the number of observations being imputed increases (see below).</font>"
     ]
    },
    {
     "cell_type": "code",
     "collapsed": false,
     "input": [
      "#Marginal distribution of the imputation\n",
      "s =240\n",
      "(impute_from_dist(joint_dist, s).value_counts()/s)[joint_dist.keys()]"
     ],
     "language": "python",
     "metadata": {},
     "outputs": [
      {
       "metadata": {},
       "output_type": "pyout",
       "prompt_number": 19,
       "text": [
        "Owner occupied:!!No bedroom             0.004167\n",
        "Owner occupied:!!1 bedroom                   NaN\n",
        "Owner occupied:!!2 bedrooms             0.112500\n",
        "Owner occupied:!!3 bedrooms             0.350000\n",
        "Owner occupied:!!4 bedrooms             0.266667\n",
        "Owner occupied:!!5 or more bedrooms     0.070833\n",
        "Renter occupied:!!No bedroom                 NaN\n",
        "Renter occupied:!!1 bedroom             0.054167\n",
        "Renter occupied:!!2 bedrooms            0.045833\n",
        "Renter occupied:!!3 bedrooms            0.054167\n",
        "Renter occupied:!!4 bedrooms            0.041667\n",
        "Renter occupied:!!5 or more bedrooms         NaN\n",
        "dtype: float64"
       ]
      }
     ],
     "prompt_number": 19
    },
    {
     "cell_type": "code",
     "collapsed": false,
     "input": [
      "#Joint distribution of the imputation\n",
      "joint_dist"
     ],
     "language": "python",
     "metadata": {},
     "outputs": [
      {
       "metadata": {},
       "output_type": "pyout",
       "prompt_number": 20,
       "text": [
        "Owner occupied:!!No bedroom             0.004633205\n",
        "Owner occupied:!!1 bedroom                        0\n",
        "Owner occupied:!!2 bedrooms               0.1111969\n",
        "Owner occupied:!!3 bedrooms               0.3490347\n",
        "Owner occupied:!!4 bedrooms               0.2687259\n",
        "Owner occupied:!!5 or more bedrooms      0.07181467\n",
        "Renter occupied:!!No bedroom                      0\n",
        "Renter occupied:!!1 bedroom              0.05559846\n",
        "Renter occupied:!!2 bedrooms             0.04401544\n",
        "Renter occupied:!!3 bedrooms             0.05250965\n",
        "Renter occupied:!!4 bedrooms             0.04247104\n",
        "Renter occupied:!!5 or more bedrooms              0\n",
        "Name: 6001400100, dtype: object"
       ]
      }
     ],
     "prompt_number": 20
    },
    {
     "cell_type": "markdown",
     "metadata": {},
     "source": [
      "###<font color = 'red'>Next Steps:</font>\n",
      "<p>\n",
      "    <ol>\n",
      "        <li>Go through the functions above to make it understandable to others. Comment on the logic where necessary .</li>\n",
      "        <li>Create helper functions to get the census data using the census api for an arbitrary geographic unit and create the distribution series required by the impute_from_dist function above. Use the census calling functionality from synthecity/synthpop.</li>\n",
      "        <li>Get feedback on how the results of the imputations should be structured, and make any necessary changes.</li>\n",
      "    </ol>\n",
      "</p>"
     ]
    },
    {
     "cell_type": "code",
     "collapsed": false,
     "input": [],
     "language": "python",
     "metadata": {},
     "outputs": []
    }
   ],
   "metadata": {}
  }
 ]
}